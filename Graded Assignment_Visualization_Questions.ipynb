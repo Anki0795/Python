{
 "cells": [
  {
   "cell_type": "code",
   "execution_count": 2,
   "id": "f3e40466",
   "metadata": {},
   "outputs": [],
   "source": [
    "import seaborn as sns\n",
    "import pandas as pd\n",
    "import numpy as np\n",
    "import matplotlib.pyplot as plt"
   ]
  },
  {
   "cell_type": "code",
   "execution_count": 3,
   "id": "fa9182d1",
   "metadata": {},
   "outputs": [
    {
     "data": {
      "text/html": [
       "<div>\n",
       "<style scoped>\n",
       "    .dataframe tbody tr th:only-of-type {\n",
       "        vertical-align: middle;\n",
       "    }\n",
       "\n",
       "    .dataframe tbody tr th {\n",
       "        vertical-align: top;\n",
       "    }\n",
       "\n",
       "    .dataframe thead th {\n",
       "        text-align: right;\n",
       "    }\n",
       "</style>\n",
       "<table border=\"1\" class=\"dataframe\">\n",
       "  <thead>\n",
       "    <tr style=\"text-align: right;\">\n",
       "      <th></th>\n",
       "      <th>total_bill</th>\n",
       "      <th>tip</th>\n",
       "      <th>sex</th>\n",
       "      <th>smoker</th>\n",
       "      <th>day</th>\n",
       "      <th>time</th>\n",
       "      <th>size</th>\n",
       "    </tr>\n",
       "  </thead>\n",
       "  <tbody>\n",
       "    <tr>\n",
       "      <th>0</th>\n",
       "      <td>16.99</td>\n",
       "      <td>1.01</td>\n",
       "      <td>Female</td>\n",
       "      <td>No</td>\n",
       "      <td>Sun</td>\n",
       "      <td>Dinner</td>\n",
       "      <td>2</td>\n",
       "    </tr>\n",
       "    <tr>\n",
       "      <th>1</th>\n",
       "      <td>10.34</td>\n",
       "      <td>1.66</td>\n",
       "      <td>Male</td>\n",
       "      <td>No</td>\n",
       "      <td>Sun</td>\n",
       "      <td>Dinner</td>\n",
       "      <td>3</td>\n",
       "    </tr>\n",
       "    <tr>\n",
       "      <th>2</th>\n",
       "      <td>21.01</td>\n",
       "      <td>3.50</td>\n",
       "      <td>Male</td>\n",
       "      <td>No</td>\n",
       "      <td>Sun</td>\n",
       "      <td>Dinner</td>\n",
       "      <td>3</td>\n",
       "    </tr>\n",
       "    <tr>\n",
       "      <th>3</th>\n",
       "      <td>23.68</td>\n",
       "      <td>3.31</td>\n",
       "      <td>Male</td>\n",
       "      <td>No</td>\n",
       "      <td>Sun</td>\n",
       "      <td>Dinner</td>\n",
       "      <td>2</td>\n",
       "    </tr>\n",
       "    <tr>\n",
       "      <th>4</th>\n",
       "      <td>24.59</td>\n",
       "      <td>3.61</td>\n",
       "      <td>Female</td>\n",
       "      <td>No</td>\n",
       "      <td>Sun</td>\n",
       "      <td>Dinner</td>\n",
       "      <td>4</td>\n",
       "    </tr>\n",
       "  </tbody>\n",
       "</table>\n",
       "</div>"
      ],
      "text/plain": [
       "   total_bill   tip     sex smoker  day    time  size\n",
       "0       16.99  1.01  Female     No  Sun  Dinner     2\n",
       "1       10.34  1.66    Male     No  Sun  Dinner     3\n",
       "2       21.01  3.50    Male     No  Sun  Dinner     3\n",
       "3       23.68  3.31    Male     No  Sun  Dinner     2\n",
       "4       24.59  3.61  Female     No  Sun  Dinner     4"
      ]
     },
     "execution_count": 3,
     "metadata": {},
     "output_type": "execute_result"
    }
   ],
   "source": [
    "#Read the dataset\n",
    "df = sns.load_dataset('tips')\n",
    "df.head() "
   ]
  },
  {
   "cell_type": "markdown",
   "id": "d949af5d",
   "metadata": {},
   "source": [
    "#### 1.Create a Line Plot with x (‘total_bill’) versus y (‘tip’) using lineplot() function:"
   ]
  },
  {
   "cell_type": "code",
   "execution_count": null,
   "id": "404517d1",
   "metadata": {},
   "outputs": [],
   "source": [
    "x = np.linspace(0,50,100)\n",
    "y = x*np.linspace(100,150,100)\n",
    "plt.plot(x ='total_bill', y = 'tip')"
   ]
  },
  {
   "cell_type": "markdown",
   "id": "f7ac9264",
   "metadata": {},
   "source": [
    "#### 2.Create a scatter plot with total_bill and tip "
   ]
  },
  {
   "cell_type": "code",
   "execution_count": 12,
   "id": "0329065f",
   "metadata": {},
   "outputs": [
    {
     "data": {
      "text/plain": [
       "<matplotlib.collections.PathCollection at 0x16ecfe5c7f0>"
      ]
     },
     "execution_count": 12,
     "metadata": {},
     "output_type": "execute_result"
    },
    {
     "data": {
      "image/png": "[encoded data removed]",
      "text/plain": [
       "<Figure size 432x288 with 1 Axes>"
      ]
     },
     "metadata": {
      "needs_background": "light"
     },
     "output_type": "display_data"
    }
   ],
   "source": [
    "plt.scatter(df.total_bill, df.tip)"
   ]
  },
  {
   "cell_type": "markdown",
   "id": "2ed7c386",
   "metadata": {},
   "source": [
    "#### 3.Write a python code to create a hist plot on total_bill with bins=10.\n",
    "- Create the following \n",
    "-Title as \"Frequency of Bill Amount\"\n",
    "-xlabel as \"Billed Amount\"\n",
    "-ylabel as \"Count\""
   ]
  },
  {
   "cell_type": "code",
   "execution_count": 17,
   "id": "8edf407d",
   "metadata": {},
   "outputs": [
    {
     "ename": "SyntaxError",
     "evalue": "invalid syntax (2852423786.py, line 1)",
     "output_type": "error",
     "traceback": [
      "\u001b[1;36m  Input \u001b[1;32mIn [17]\u001b[1;36m\u001b[0m\n\u001b[1;33m    sns.histplot(x= 'Billedamount, y= 'tip', title= 'Frequency of billed amount')\u001b[0m\n\u001b[1;37m                                       ^\u001b[0m\n\u001b[1;31mSyntaxError\u001b[0m\u001b[1;31m:\u001b[0m invalid syntax\n"
     ]
    }
   ],
   "source": [
    "sns.histplot(x= 'Billedamount, y= 'count', title= 'Frequency of billed amount')\n",
    "plt.show()"
   ]
  },
  {
   "cell_type": "markdown",
   "id": "e1ac5ec3",
   "metadata": {},
   "source": [
    "## 4.Write a python code to create a heatmap on tips dataset by showing the corelation between numeric attributes "
   ]
  },
  {
   "cell_type": "code",
   "execution_count": null,
   "id": "b3dc2112",
   "metadata": {},
   "outputs": [],
   "source": []
  },
  {
   "cell_type": "markdown",
   "id": "21cd3bf9",
   "metadata": {},
   "source": [
    "#### 5.Write a python code to create a barplot on smoker and total_bill attribute"
   ]
  },
  {
   "cell_type": "code",
   "execution_count": null,
   "id": "6985fd3b",
   "metadata": {},
   "outputs": [],
   "source": [
    "\n"
   ]
  },
  {
   "cell_type": "markdown",
   "id": "51c4ad2a",
   "metadata": {},
   "source": [
    "#### 6.Write a python code to use the countplot() function to show the count of smokers and non-smokers:"
   ]
  },
  {
   "cell_type": "code",
   "execution_count": null,
   "id": "a63ec5a1",
   "metadata": {},
   "outputs": [],
   "source": [
    "\n"
   ]
  },
  {
   "cell_type": "markdown",
   "id": "0c136899",
   "metadata": {},
   "source": [
    "#### 7.Let’s write a python code to analyze how the tipped amount varies during lunch and dinner time and if there are any outliers in our data. Hint :(Boxplot)"
   ]
  },
  {
   "cell_type": "code",
   "execution_count": null,
   "id": "e76f6795",
   "metadata": {},
   "outputs": [],
   "source": [
    "\n"
   ]
  },
  {
   "cell_type": "markdown",
   "id": "44b0b831",
   "metadata": {},
   "source": [
    "#### 8.Let’s write a python code to create a pair plot to show the pair wise distribution of all attributes"
   ]
  },
  {
   "cell_type": "code",
   "execution_count": null,
   "id": "21b96e60",
   "metadata": {},
   "outputs": [],
   "source": []
  },
  {
   "cell_type": "code",
   "execution_count": null,
   "id": "059de928",
   "metadata": {},
   "outputs": [],
   "source": [
    "**********************************THE END*************************"
   ]
  }
 ],
 "metadata": {
  "kernelspec": {
   "display_name": "Python 3 (ipykernel)",
   "language": "python",
   "name": "python3"
  },
  "language_info": {
   "codemirror_mode": {
    "name": "ipython",
    "version": 3
   },
   "file_extension": ".py",
   "mimetype": "text/x-python",
   "name": "python",
   "nbconvert_exporter": "python",
   "pygments_lexer": "ipython3",
   "version": "3.9.12"
  }
 },
 "nbformat": 4,
 "nbformat_minor": 5
}
